{
  "cells": [
    {
      "cell_type": "code",
      "execution_count": 1,
      "metadata": {
        "id": "zD4edfdW2h54",
        "colab": {
          "base_uri": "https://localhost:8080/"
        },
        "outputId": "99fc15aa-7e5a-466b-b7bd-5232054a59c3"
      },
      "outputs": [
        {
          "output_type": "stream",
          "name": "stdout",
          "text": [
            "Collecting pmdarima\n",
            "  Downloading pmdarima-2.0.4-cp310-cp310-manylinux_2_17_x86_64.manylinux2014_x86_64.manylinux_2_28_x86_64.whl.metadata (7.8 kB)\n",
            "Requirement already satisfied: joblib>=0.11 in /usr/local/lib/python3.10/dist-packages (from pmdarima) (1.4.2)\n",
            "Requirement already satisfied: Cython!=0.29.18,!=0.29.31,>=0.29 in /usr/local/lib/python3.10/dist-packages (from pmdarima) (3.0.11)\n",
            "Requirement already satisfied: numpy>=1.21.2 in /usr/local/lib/python3.10/dist-packages (from pmdarima) (1.26.4)\n",
            "Requirement already satisfied: pandas>=0.19 in /usr/local/lib/python3.10/dist-packages (from pmdarima) (2.1.4)\n",
            "Requirement already satisfied: scikit-learn>=0.22 in /usr/local/lib/python3.10/dist-packages (from pmdarima) (1.3.2)\n",
            "Requirement already satisfied: scipy>=1.3.2 in /usr/local/lib/python3.10/dist-packages (from pmdarima) (1.13.1)\n",
            "Requirement already satisfied: statsmodels>=0.13.2 in /usr/local/lib/python3.10/dist-packages (from pmdarima) (0.14.2)\n",
            "Requirement already satisfied: urllib3 in /usr/local/lib/python3.10/dist-packages (from pmdarima) (2.0.7)\n",
            "Requirement already satisfied: setuptools!=50.0.0,>=38.6.0 in /usr/local/lib/python3.10/dist-packages (from pmdarima) (71.0.4)\n",
            "Requirement already satisfied: packaging>=17.1 in /usr/local/lib/python3.10/dist-packages (from pmdarima) (24.1)\n",
            "Requirement already satisfied: python-dateutil>=2.8.2 in /usr/local/lib/python3.10/dist-packages (from pandas>=0.19->pmdarima) (2.8.2)\n",
            "Requirement already satisfied: pytz>=2020.1 in /usr/local/lib/python3.10/dist-packages (from pandas>=0.19->pmdarima) (2024.2)\n",
            "Requirement already satisfied: tzdata>=2022.1 in /usr/local/lib/python3.10/dist-packages (from pandas>=0.19->pmdarima) (2024.1)\n",
            "Requirement already satisfied: threadpoolctl>=2.0.0 in /usr/local/lib/python3.10/dist-packages (from scikit-learn>=0.22->pmdarima) (3.5.0)\n",
            "Requirement already satisfied: patsy>=0.5.6 in /usr/local/lib/python3.10/dist-packages (from statsmodels>=0.13.2->pmdarima) (0.5.6)\n",
            "Requirement already satisfied: six in /usr/local/lib/python3.10/dist-packages (from patsy>=0.5.6->statsmodels>=0.13.2->pmdarima) (1.16.0)\n",
            "Downloading pmdarima-2.0.4-cp310-cp310-manylinux_2_17_x86_64.manylinux2014_x86_64.manylinux_2_28_x86_64.whl (2.1 MB)\n",
            "\u001b[2K   \u001b[90m━━━━━━━━━━━━━━━━━━━━━━━━━━━━━━━━━━━━━━━━\u001b[0m \u001b[32m2.1/2.1 MB\u001b[0m \u001b[31m18.3 MB/s\u001b[0m eta \u001b[36m0:00:00\u001b[0m\n",
            "\u001b[?25hInstalling collected packages: pmdarima\n",
            "Successfully installed pmdarima-2.0.4\n"
          ]
        }
      ],
      "source": [
        "import pandas as pd\n",
        "import matplotlib.pyplot as plt\n",
        "from matplotlib.pylab import rcParams\n",
        "from sklearn.metrics import mean_absolute_error, mean_squared_error, mean_absolute_percentage_error\n",
        "import numpy as np\n",
        "import scipy.stats as stats\n",
        "from statsmodels.graphics.tsaplots import plot_acf, plot_pacf\n",
        "from statsmodels.stats.stattools import durbin_watson\n",
        "from statsmodels.stats.diagnostic import acorr_ljungbox\n",
        "!pip install pmdarima\n",
        "from pmdarima.arima import auto_arima\n",
        "from statsmodels.tsa.arima.model import ARIMA\n",
        "\n",
        "\n"
      ]
    },
    {
      "cell_type": "code",
      "execution_count": null,
      "metadata": {
        "colab": {
          "base_uri": "https://localhost:8080/"
        },
        "id": "Q9ZH4RlmaPeN",
        "outputId": "4df3132a-a4c6-4f79-9e29-afb8e44a5d86"
      },
      "outputs": [
        {
          "output_type": "stream",
          "name": "stdout",
          "text": [
            "Mounted at /content/drive\n"
          ]
        }
      ],
      "source": [
        "from google.colab import drive\n",
        "drive.mount('/content/drive')"
      ]
    },
    {
      "cell_type": "code",
      "execution_count": null,
      "metadata": {
        "id": "io8H6naxrEvf"
      },
      "outputs": [],
      "source": [
        "#Metodos Para Calcular o Theils U Coefficient\n",
        "def division(measure, previousI):\n",
        "  return measure / previousI\n",
        "\n",
        "def power(measure):\n",
        "  return np.power(measure, 2)\n",
        "\n",
        "def summation(measure):\n",
        "  return np.sum(measure)\n",
        "\n",
        "def mean(N, measure):\n",
        "  return (1/N) * measure\n",
        "\n",
        "def sqrt(measure):\n",
        "  return np.sqrt(measure)\n",
        "\n",
        "def theil_u2(y_true, y_pred):\n",
        "    y_true = np.ravel(y_true)\n",
        "    y_pred = np.ravel(y_pred)\n",
        "    N = len(y_true)\n",
        "\n",
        "    subtractionNumerator = y_pred[1:] - y_true[1:]\n",
        "    divisionNumerator = division(subtractionNumerator, y_true[:-1])\n",
        "    powerNumerator = power(divisionNumerator)\n",
        "    summationNumerator = summation(powerNumerator)\n",
        "    meanNumerator = mean(N, summationNumerator)\n",
        "    numerator = sqrt(meanNumerator)\n",
        "\n",
        "    subtractionDenominator = y_true[1:] - y_true[:-1]\n",
        "    powerDenominator = power(division(subtractionDenominator, y_true[:-1]))\n",
        "    denominator = sqrt(mean(N, summation(powerDenominator)))\n",
        "\n",
        "    theilU2 = numerator / denominator\n",
        "\n",
        "    return theilU2"
      ]
    },
    {
      "cell_type": "markdown",
      "metadata": {
        "id": "LdvtDztYGSo5"
      },
      "source": [
        "Adiciona caminho do dataset"
      ]
    },
    {
      "cell_type": "code",
      "execution_count": null,
      "metadata": {
        "id": "HhpsqRQ62vYQ"
      },
      "outputs": [],
      "source": [
        "dataset = pd.read_excel('/content/drive/My Drive/IC/VISITAxATENDIMENTOv6.xls')"
      ]
    },
    {
      "cell_type": "code",
      "execution_count": null,
      "metadata": {
        "colab": {
          "base_uri": "https://localhost:8080/",
          "height": 1000
        },
        "id": "tf_Z75qKWMjK",
        "outputId": "632a4518-186a-43ca-b858-502d565c81f3"
      },
      "outputs": [
        {
          "output_type": "execute_result",
          "data": {
            "text/plain": [
              "      Período      Municipio  Atendimento Individual\n",
              "0  2018-10-01  FLORIANÓPOLIS                   36895\n",
              "1  2018-11-01  FLORIANÓPOLIS                   30753\n",
              "2  2018-12-01  FLORIANÓPOLIS                   25652\n",
              "3  2019-01-01  FLORIANÓPOLIS                   31905\n",
              "4  2019-02-01  FLORIANÓPOLIS                   26637\n",
              "5  2019-03-01  FLORIANÓPOLIS                   53775\n",
              "6  2019-04-01  FLORIANÓPOLIS                   75869\n",
              "7  2019-05-01  FLORIANÓPOLIS                   79384\n",
              "8  2019-06-01  FLORIANÓPOLIS                   63603\n",
              "9  2019-07-01  FLORIANÓPOLIS                   78274\n",
              "10 2019-08-01  FLORIANÓPOLIS                   78241\n",
              "11 2019-09-01  FLORIANÓPOLIS                   75408\n",
              "12 2019-10-01  FLORIANÓPOLIS                   82515\n",
              "13 2019-11-01  FLORIANÓPOLIS                   73627\n",
              "14 2019-12-01  FLORIANÓPOLIS                   61838\n",
              "15 2020-01-01  FLORIANÓPOLIS                   25889\n",
              "16 2020-02-01  FLORIANÓPOLIS                   39024\n",
              "17 2020-03-01  FLORIANÓPOLIS                   28944\n",
              "18 2020-04-01  FLORIANÓPOLIS                   28022\n",
              "19 2020-05-01  FLORIANÓPOLIS                   32455\n",
              "20 2020-06-01  FLORIANÓPOLIS                   38543\n",
              "21 2020-07-01  FLORIANÓPOLIS                   24110\n",
              "22 2020-08-01  FLORIANÓPOLIS                   30724\n",
              "23 2020-09-01  FLORIANÓPOLIS                   35930\n",
              "24 2020-10-01  FLORIANÓPOLIS                   48585\n",
              "25 2020-11-01  FLORIANÓPOLIS                   55323\n",
              "26 2020-12-01  FLORIANÓPOLIS                   50085\n",
              "27 2021-01-01  FLORIANÓPOLIS                   84670\n",
              "28 2021-02-01  FLORIANÓPOLIS                   89837\n",
              "29 2021-03-01  FLORIANÓPOLIS                  102976\n",
              "30 2021-04-01  FLORIANÓPOLIS                   84889\n",
              "31 2021-05-01  FLORIANÓPOLIS                  103789\n",
              "32 2021-06-01  FLORIANÓPOLIS                   94551\n",
              "33 2021-07-01  FLORIANÓPOLIS                   91504\n",
              "34 2021-08-01  FLORIANÓPOLIS                   91004\n",
              "35 2021-09-01  FLORIANÓPOLIS                   87109\n",
              "36 2021-10-01  FLORIANÓPOLIS                   82470\n",
              "37 2021-11-01  FLORIANÓPOLIS                   80850\n",
              "38 2021-12-01  FLORIANÓPOLIS                  112282\n",
              "39 2022-01-01  FLORIANÓPOLIS                  122672\n",
              "40 2022-02-01  FLORIANÓPOLIS                   69110\n",
              "41 2022-03-01  FLORIANÓPOLIS                  104742\n",
              "42 2022-04-01  FLORIANÓPOLIS                   81733\n",
              "43 2022-05-01  FLORIANÓPOLIS                  101465\n",
              "44 2022-06-01  FLORIANÓPOLIS                   84228\n",
              "45 2022-07-01  FLORIANÓPOLIS                   96906\n",
              "46 2022-08-01  FLORIANÓPOLIS                  100683\n",
              "47 2022-09-01  FLORIANÓPOLIS                   93430\n",
              "48 2022-10-01  FLORIANÓPOLIS                   91981\n",
              "49 2022-11-01  FLORIANÓPOLIS                   84996\n",
              "50 2022-12-01  FLORIANÓPOLIS                   78599\n",
              "51 2023-01-01  FLORIANÓPOLIS                   90119\n",
              "52 2023-02-01  FLORIANÓPOLIS                   80030\n",
              "53 2023-03-01  FLORIANÓPOLIS                  107285\n",
              "54 2023-04-01  FLORIANÓPOLIS                   94727\n",
              "55 2023-05-01  FLORIANÓPOLIS                  110978\n",
              "56 2023-06-01  FLORIANÓPOLIS                   76582\n",
              "57 2023-07-01  FLORIANÓPOLIS                   97963\n",
              "58 2023-08-01  FLORIANÓPOLIS                  113447\n",
              "59 2023-09-01  FLORIANÓPOLIS                   89507"
            ],
            "text/html": [
              "\n",
              "  <div id=\"df-41b7796f-5ea3-460f-b012-6ca61ec6c09c\" class=\"colab-df-container\">\n",
              "    <div>\n",
              "<style scoped>\n",
              "    .dataframe tbody tr th:only-of-type {\n",
              "        vertical-align: middle;\n",
              "    }\n",
              "\n",
              "    .dataframe tbody tr th {\n",
              "        vertical-align: top;\n",
              "    }\n",
              "\n",
              "    .dataframe thead th {\n",
              "        text-align: right;\n",
              "    }\n",
              "</style>\n",
              "<table border=\"1\" class=\"dataframe\">\n",
              "  <thead>\n",
              "    <tr style=\"text-align: right;\">\n",
              "      <th></th>\n",
              "      <th>Período</th>\n",
              "      <th>Municipio</th>\n",
              "      <th>Atendimento Individual</th>\n",
              "    </tr>\n",
              "  </thead>\n",
              "  <tbody>\n",
              "    <tr>\n",
              "      <th>0</th>\n",
              "      <td>2018-10-01</td>\n",
              "      <td>FLORIANÓPOLIS</td>\n",
              "      <td>36895</td>\n",
              "    </tr>\n",
              "    <tr>\n",
              "      <th>1</th>\n",
              "      <td>2018-11-01</td>\n",
              "      <td>FLORIANÓPOLIS</td>\n",
              "      <td>30753</td>\n",
              "    </tr>\n",
              "    <tr>\n",
              "      <th>2</th>\n",
              "      <td>2018-12-01</td>\n",
              "      <td>FLORIANÓPOLIS</td>\n",
              "      <td>25652</td>\n",
              "    </tr>\n",
              "    <tr>\n",
              "      <th>3</th>\n",
              "      <td>2019-01-01</td>\n",
              "      <td>FLORIANÓPOLIS</td>\n",
              "      <td>31905</td>\n",
              "    </tr>\n",
              "    <tr>\n",
              "      <th>4</th>\n",
              "      <td>2019-02-01</td>\n",
              "      <td>FLORIANÓPOLIS</td>\n",
              "      <td>26637</td>\n",
              "    </tr>\n",
              "    <tr>\n",
              "      <th>5</th>\n",
              "      <td>2019-03-01</td>\n",
              "      <td>FLORIANÓPOLIS</td>\n",
              "      <td>53775</td>\n",
              "    </tr>\n",
              "    <tr>\n",
              "      <th>6</th>\n",
              "      <td>2019-04-01</td>\n",
              "      <td>FLORIANÓPOLIS</td>\n",
              "      <td>75869</td>\n",
              "    </tr>\n",
              "    <tr>\n",
              "      <th>7</th>\n",
              "      <td>2019-05-01</td>\n",
              "      <td>FLORIANÓPOLIS</td>\n",
              "      <td>79384</td>\n",
              "    </tr>\n",
              "    <tr>\n",
              "      <th>8</th>\n",
              "      <td>2019-06-01</td>\n",
              "      <td>FLORIANÓPOLIS</td>\n",
              "      <td>63603</td>\n",
              "    </tr>\n",
              "    <tr>\n",
              "      <th>9</th>\n",
              "      <td>2019-07-01</td>\n",
              "      <td>FLORIANÓPOLIS</td>\n",
              "      <td>78274</td>\n",
              "    </tr>\n",
              "    <tr>\n",
              "      <th>10</th>\n",
              "      <td>2019-08-01</td>\n",
              "      <td>FLORIANÓPOLIS</td>\n",
              "      <td>78241</td>\n",
              "    </tr>\n",
              "    <tr>\n",
              "      <th>11</th>\n",
              "      <td>2019-09-01</td>\n",
              "      <td>FLORIANÓPOLIS</td>\n",
              "      <td>75408</td>\n",
              "    </tr>\n",
              "    <tr>\n",
              "      <th>12</th>\n",
              "      <td>2019-10-01</td>\n",
              "      <td>FLORIANÓPOLIS</td>\n",
              "      <td>82515</td>\n",
              "    </tr>\n",
              "    <tr>\n",
              "      <th>13</th>\n",
              "      <td>2019-11-01</td>\n",
              "      <td>FLORIANÓPOLIS</td>\n",
              "      <td>73627</td>\n",
              "    </tr>\n",
              "    <tr>\n",
              "      <th>14</th>\n",
              "      <td>2019-12-01</td>\n",
              "      <td>FLORIANÓPOLIS</td>\n",
              "      <td>61838</td>\n",
              "    </tr>\n",
              "    <tr>\n",
              "      <th>15</th>\n",
              "      <td>2020-01-01</td>\n",
              "      <td>FLORIANÓPOLIS</td>\n",
              "      <td>25889</td>\n",
              "    </tr>\n",
              "    <tr>\n",
              "      <th>16</th>\n",
              "      <td>2020-02-01</td>\n",
              "      <td>FLORIANÓPOLIS</td>\n",
              "      <td>39024</td>\n",
              "    </tr>\n",
              "    <tr>\n",
              "      <th>17</th>\n",
              "      <td>2020-03-01</td>\n",
              "      <td>FLORIANÓPOLIS</td>\n",
              "      <td>28944</td>\n",
              "    </tr>\n",
              "    <tr>\n",
              "      <th>18</th>\n",
              "      <td>2020-04-01</td>\n",
              "      <td>FLORIANÓPOLIS</td>\n",
              "      <td>28022</td>\n",
              "    </tr>\n",
              "    <tr>\n",
              "      <th>19</th>\n",
              "      <td>2020-05-01</td>\n",
              "      <td>FLORIANÓPOLIS</td>\n",
              "      <td>32455</td>\n",
              "    </tr>\n",
              "    <tr>\n",
              "      <th>20</th>\n",
              "      <td>2020-06-01</td>\n",
              "      <td>FLORIANÓPOLIS</td>\n",
              "      <td>38543</td>\n",
              "    </tr>\n",
              "    <tr>\n",
              "      <th>21</th>\n",
              "      <td>2020-07-01</td>\n",
              "      <td>FLORIANÓPOLIS</td>\n",
              "      <td>24110</td>\n",
              "    </tr>\n",
              "    <tr>\n",
              "      <th>22</th>\n",
              "      <td>2020-08-01</td>\n",
              "      <td>FLORIANÓPOLIS</td>\n",
              "      <td>30724</td>\n",
              "    </tr>\n",
              "    <tr>\n",
              "      <th>23</th>\n",
              "      <td>2020-09-01</td>\n",
              "      <td>FLORIANÓPOLIS</td>\n",
              "      <td>35930</td>\n",
              "    </tr>\n",
              "    <tr>\n",
              "      <th>24</th>\n",
              "      <td>2020-10-01</td>\n",
              "      <td>FLORIANÓPOLIS</td>\n",
              "      <td>48585</td>\n",
              "    </tr>\n",
              "    <tr>\n",
              "      <th>25</th>\n",
              "      <td>2020-11-01</td>\n",
              "      <td>FLORIANÓPOLIS</td>\n",
              "      <td>55323</td>\n",
              "    </tr>\n",
              "    <tr>\n",
              "      <th>26</th>\n",
              "      <td>2020-12-01</td>\n",
              "      <td>FLORIANÓPOLIS</td>\n",
              "      <td>50085</td>\n",
              "    </tr>\n",
              "    <tr>\n",
              "      <th>27</th>\n",
              "      <td>2021-01-01</td>\n",
              "      <td>FLORIANÓPOLIS</td>\n",
              "      <td>84670</td>\n",
              "    </tr>\n",
              "    <tr>\n",
              "      <th>28</th>\n",
              "      <td>2021-02-01</td>\n",
              "      <td>FLORIANÓPOLIS</td>\n",
              "      <td>89837</td>\n",
              "    </tr>\n",
              "    <tr>\n",
              "      <th>29</th>\n",
              "      <td>2021-03-01</td>\n",
              "      <td>FLORIANÓPOLIS</td>\n",
              "      <td>102976</td>\n",
              "    </tr>\n",
              "    <tr>\n",
              "      <th>30</th>\n",
              "      <td>2021-04-01</td>\n",
              "      <td>FLORIANÓPOLIS</td>\n",
              "      <td>84889</td>\n",
              "    </tr>\n",
              "    <tr>\n",
              "      <th>31</th>\n",
              "      <td>2021-05-01</td>\n",
              "      <td>FLORIANÓPOLIS</td>\n",
              "      <td>103789</td>\n",
              "    </tr>\n",
              "    <tr>\n",
              "      <th>32</th>\n",
              "      <td>2021-06-01</td>\n",
              "      <td>FLORIANÓPOLIS</td>\n",
              "      <td>94551</td>\n",
              "    </tr>\n",
              "    <tr>\n",
              "      <th>33</th>\n",
              "      <td>2021-07-01</td>\n",
              "      <td>FLORIANÓPOLIS</td>\n",
              "      <td>91504</td>\n",
              "    </tr>\n",
              "    <tr>\n",
              "      <th>34</th>\n",
              "      <td>2021-08-01</td>\n",
              "      <td>FLORIANÓPOLIS</td>\n",
              "      <td>91004</td>\n",
              "    </tr>\n",
              "    <tr>\n",
              "      <th>35</th>\n",
              "      <td>2021-09-01</td>\n",
              "      <td>FLORIANÓPOLIS</td>\n",
              "      <td>87109</td>\n",
              "    </tr>\n",
              "    <tr>\n",
              "      <th>36</th>\n",
              "      <td>2021-10-01</td>\n",
              "      <td>FLORIANÓPOLIS</td>\n",
              "      <td>82470</td>\n",
              "    </tr>\n",
              "    <tr>\n",
              "      <th>37</th>\n",
              "      <td>2021-11-01</td>\n",
              "      <td>FLORIANÓPOLIS</td>\n",
              "      <td>80850</td>\n",
              "    </tr>\n",
              "    <tr>\n",
              "      <th>38</th>\n",
              "      <td>2021-12-01</td>\n",
              "      <td>FLORIANÓPOLIS</td>\n",
              "      <td>112282</td>\n",
              "    </tr>\n",
              "    <tr>\n",
              "      <th>39</th>\n",
              "      <td>2022-01-01</td>\n",
              "      <td>FLORIANÓPOLIS</td>\n",
              "      <td>122672</td>\n",
              "    </tr>\n",
              "    <tr>\n",
              "      <th>40</th>\n",
              "      <td>2022-02-01</td>\n",
              "      <td>FLORIANÓPOLIS</td>\n",
              "      <td>69110</td>\n",
              "    </tr>\n",
              "    <tr>\n",
              "      <th>41</th>\n",
              "      <td>2022-03-01</td>\n",
              "      <td>FLORIANÓPOLIS</td>\n",
              "      <td>104742</td>\n",
              "    </tr>\n",
              "    <tr>\n",
              "      <th>42</th>\n",
              "      <td>2022-04-01</td>\n",
              "      <td>FLORIANÓPOLIS</td>\n",
              "      <td>81733</td>\n",
              "    </tr>\n",
              "    <tr>\n",
              "      <th>43</th>\n",
              "      <td>2022-05-01</td>\n",
              "      <td>FLORIANÓPOLIS</td>\n",
              "      <td>101465</td>\n",
              "    </tr>\n",
              "    <tr>\n",
              "      <th>44</th>\n",
              "      <td>2022-06-01</td>\n",
              "      <td>FLORIANÓPOLIS</td>\n",
              "      <td>84228</td>\n",
              "    </tr>\n",
              "    <tr>\n",
              "      <th>45</th>\n",
              "      <td>2022-07-01</td>\n",
              "      <td>FLORIANÓPOLIS</td>\n",
              "      <td>96906</td>\n",
              "    </tr>\n",
              "    <tr>\n",
              "      <th>46</th>\n",
              "      <td>2022-08-01</td>\n",
              "      <td>FLORIANÓPOLIS</td>\n",
              "      <td>100683</td>\n",
              "    </tr>\n",
              "    <tr>\n",
              "      <th>47</th>\n",
              "      <td>2022-09-01</td>\n",
              "      <td>FLORIANÓPOLIS</td>\n",
              "      <td>93430</td>\n",
              "    </tr>\n",
              "    <tr>\n",
              "      <th>48</th>\n",
              "      <td>2022-10-01</td>\n",
              "      <td>FLORIANÓPOLIS</td>\n",
              "      <td>91981</td>\n",
              "    </tr>\n",
              "    <tr>\n",
              "      <th>49</th>\n",
              "      <td>2022-11-01</td>\n",
              "      <td>FLORIANÓPOLIS</td>\n",
              "      <td>84996</td>\n",
              "    </tr>\n",
              "    <tr>\n",
              "      <th>50</th>\n",
              "      <td>2022-12-01</td>\n",
              "      <td>FLORIANÓPOLIS</td>\n",
              "      <td>78599</td>\n",
              "    </tr>\n",
              "    <tr>\n",
              "      <th>51</th>\n",
              "      <td>2023-01-01</td>\n",
              "      <td>FLORIANÓPOLIS</td>\n",
              "      <td>90119</td>\n",
              "    </tr>\n",
              "    <tr>\n",
              "      <th>52</th>\n",
              "      <td>2023-02-01</td>\n",
              "      <td>FLORIANÓPOLIS</td>\n",
              "      <td>80030</td>\n",
              "    </tr>\n",
              "    <tr>\n",
              "      <th>53</th>\n",
              "      <td>2023-03-01</td>\n",
              "      <td>FLORIANÓPOLIS</td>\n",
              "      <td>107285</td>\n",
              "    </tr>\n",
              "    <tr>\n",
              "      <th>54</th>\n",
              "      <td>2023-04-01</td>\n",
              "      <td>FLORIANÓPOLIS</td>\n",
              "      <td>94727</td>\n",
              "    </tr>\n",
              "    <tr>\n",
              "      <th>55</th>\n",
              "      <td>2023-05-01</td>\n",
              "      <td>FLORIANÓPOLIS</td>\n",
              "      <td>110978</td>\n",
              "    </tr>\n",
              "    <tr>\n",
              "      <th>56</th>\n",
              "      <td>2023-06-01</td>\n",
              "      <td>FLORIANÓPOLIS</td>\n",
              "      <td>76582</td>\n",
              "    </tr>\n",
              "    <tr>\n",
              "      <th>57</th>\n",
              "      <td>2023-07-01</td>\n",
              "      <td>FLORIANÓPOLIS</td>\n",
              "      <td>97963</td>\n",
              "    </tr>\n",
              "    <tr>\n",
              "      <th>58</th>\n",
              "      <td>2023-08-01</td>\n",
              "      <td>FLORIANÓPOLIS</td>\n",
              "      <td>113447</td>\n",
              "    </tr>\n",
              "    <tr>\n",
              "      <th>59</th>\n",
              "      <td>2023-09-01</td>\n",
              "      <td>FLORIANÓPOLIS</td>\n",
              "      <td>89507</td>\n",
              "    </tr>\n",
              "  </tbody>\n",
              "</table>\n",
              "</div>\n",
              "    <div class=\"colab-df-buttons\">\n",
              "\n",
              "  <div class=\"colab-df-container\">\n",
              "    <button class=\"colab-df-convert\" onclick=\"convertToInteractive('df-41b7796f-5ea3-460f-b012-6ca61ec6c09c')\"\n",
              "            title=\"Convert this dataframe to an interactive table.\"\n",
              "            style=\"display:none;\">\n",
              "\n",
              "  <svg xmlns=\"http://www.w3.org/2000/svg\" height=\"24px\" viewBox=\"0 -960 960 960\">\n",
              "    <path d=\"M120-120v-720h720v720H120Zm60-500h600v-160H180v160Zm220 220h160v-160H400v160Zm0 220h160v-160H400v160ZM180-400h160v-160H180v160Zm440 0h160v-160H620v160ZM180-180h160v-160H180v160Zm440 0h160v-160H620v160Z\"/>\n",
              "  </svg>\n",
              "    </button>\n",
              "\n",
              "  <style>\n",
              "    .colab-df-container {\n",
              "      display:flex;\n",
              "      gap: 12px;\n",
              "    }\n",
              "\n",
              "    .colab-df-convert {\n",
              "      background-color: #E8F0FE;\n",
              "      border: none;\n",
              "      border-radius: 50%;\n",
              "      cursor: pointer;\n",
              "      display: none;\n",
              "      fill: #1967D2;\n",
              "      height: 32px;\n",
              "      padding: 0 0 0 0;\n",
              "      width: 32px;\n",
              "    }\n",
              "\n",
              "    .colab-df-convert:hover {\n",
              "      background-color: #E2EBFA;\n",
              "      box-shadow: 0px 1px 2px rgba(60, 64, 67, 0.3), 0px 1px 3px 1px rgba(60, 64, 67, 0.15);\n",
              "      fill: #174EA6;\n",
              "    }\n",
              "\n",
              "    .colab-df-buttons div {\n",
              "      margin-bottom: 4px;\n",
              "    }\n",
              "\n",
              "    [theme=dark] .colab-df-convert {\n",
              "      background-color: #3B4455;\n",
              "      fill: #D2E3FC;\n",
              "    }\n",
              "\n",
              "    [theme=dark] .colab-df-convert:hover {\n",
              "      background-color: #434B5C;\n",
              "      box-shadow: 0px 1px 3px 1px rgba(0, 0, 0, 0.15);\n",
              "      filter: drop-shadow(0px 1px 2px rgba(0, 0, 0, 0.3));\n",
              "      fill: #FFFFFF;\n",
              "    }\n",
              "  </style>\n",
              "\n",
              "    <script>\n",
              "      const buttonEl =\n",
              "        document.querySelector('#df-41b7796f-5ea3-460f-b012-6ca61ec6c09c button.colab-df-convert');\n",
              "      buttonEl.style.display =\n",
              "        google.colab.kernel.accessAllowed ? 'block' : 'none';\n",
              "\n",
              "      async function convertToInteractive(key) {\n",
              "        const element = document.querySelector('#df-41b7796f-5ea3-460f-b012-6ca61ec6c09c');\n",
              "        const dataTable =\n",
              "          await google.colab.kernel.invokeFunction('convertToInteractive',\n",
              "                                                    [key], {});\n",
              "        if (!dataTable) return;\n",
              "\n",
              "        const docLinkHtml = 'Like what you see? Visit the ' +\n",
              "          '<a target=\"_blank\" href=https://colab.research.google.com/notebooks/data_table.ipynb>data table notebook</a>'\n",
              "          + ' to learn more about interactive tables.';\n",
              "        element.innerHTML = '';\n",
              "        dataTable['output_type'] = 'display_data';\n",
              "        await google.colab.output.renderOutput(dataTable, element);\n",
              "        const docLink = document.createElement('div');\n",
              "        docLink.innerHTML = docLinkHtml;\n",
              "        element.appendChild(docLink);\n",
              "      }\n",
              "    </script>\n",
              "  </div>\n",
              "\n",
              "\n",
              "<div id=\"df-e6993ac7-68f1-4a95-a659-a98010ee5a18\">\n",
              "  <button class=\"colab-df-quickchart\" onclick=\"quickchart('df-e6993ac7-68f1-4a95-a659-a98010ee5a18')\"\n",
              "            title=\"Suggest charts\"\n",
              "            style=\"display:none;\">\n",
              "\n",
              "<svg xmlns=\"http://www.w3.org/2000/svg\" height=\"24px\"viewBox=\"0 0 24 24\"\n",
              "     width=\"24px\">\n",
              "    <g>\n",
              "        <path d=\"M19 3H5c-1.1 0-2 .9-2 2v14c0 1.1.9 2 2 2h14c1.1 0 2-.9 2-2V5c0-1.1-.9-2-2-2zM9 17H7v-7h2v7zm4 0h-2V7h2v10zm4 0h-2v-4h2v4z\"/>\n",
              "    </g>\n",
              "</svg>\n",
              "  </button>\n",
              "\n",
              "<style>\n",
              "  .colab-df-quickchart {\n",
              "      --bg-color: #E8F0FE;\n",
              "      --fill-color: #1967D2;\n",
              "      --hover-bg-color: #E2EBFA;\n",
              "      --hover-fill-color: #174EA6;\n",
              "      --disabled-fill-color: #AAA;\n",
              "      --disabled-bg-color: #DDD;\n",
              "  }\n",
              "\n",
              "  [theme=dark] .colab-df-quickchart {\n",
              "      --bg-color: #3B4455;\n",
              "      --fill-color: #D2E3FC;\n",
              "      --hover-bg-color: #434B5C;\n",
              "      --hover-fill-color: #FFFFFF;\n",
              "      --disabled-bg-color: #3B4455;\n",
              "      --disabled-fill-color: #666;\n",
              "  }\n",
              "\n",
              "  .colab-df-quickchart {\n",
              "    background-color: var(--bg-color);\n",
              "    border: none;\n",
              "    border-radius: 50%;\n",
              "    cursor: pointer;\n",
              "    display: none;\n",
              "    fill: var(--fill-color);\n",
              "    height: 32px;\n",
              "    padding: 0;\n",
              "    width: 32px;\n",
              "  }\n",
              "\n",
              "  .colab-df-quickchart:hover {\n",
              "    background-color: var(--hover-bg-color);\n",
              "    box-shadow: 0 1px 2px rgba(60, 64, 67, 0.3), 0 1px 3px 1px rgba(60, 64, 67, 0.15);\n",
              "    fill: var(--button-hover-fill-color);\n",
              "  }\n",
              "\n",
              "  .colab-df-quickchart-complete:disabled,\n",
              "  .colab-df-quickchart-complete:disabled:hover {\n",
              "    background-color: var(--disabled-bg-color);\n",
              "    fill: var(--disabled-fill-color);\n",
              "    box-shadow: none;\n",
              "  }\n",
              "\n",
              "  .colab-df-spinner {\n",
              "    border: 2px solid var(--fill-color);\n",
              "    border-color: transparent;\n",
              "    border-bottom-color: var(--fill-color);\n",
              "    animation:\n",
              "      spin 1s steps(1) infinite;\n",
              "  }\n",
              "\n",
              "  @keyframes spin {\n",
              "    0% {\n",
              "      border-color: transparent;\n",
              "      border-bottom-color: var(--fill-color);\n",
              "      border-left-color: var(--fill-color);\n",
              "    }\n",
              "    20% {\n",
              "      border-color: transparent;\n",
              "      border-left-color: var(--fill-color);\n",
              "      border-top-color: var(--fill-color);\n",
              "    }\n",
              "    30% {\n",
              "      border-color: transparent;\n",
              "      border-left-color: var(--fill-color);\n",
              "      border-top-color: var(--fill-color);\n",
              "      border-right-color: var(--fill-color);\n",
              "    }\n",
              "    40% {\n",
              "      border-color: transparent;\n",
              "      border-right-color: var(--fill-color);\n",
              "      border-top-color: var(--fill-color);\n",
              "    }\n",
              "    60% {\n",
              "      border-color: transparent;\n",
              "      border-right-color: var(--fill-color);\n",
              "    }\n",
              "    80% {\n",
              "      border-color: transparent;\n",
              "      border-right-color: var(--fill-color);\n",
              "      border-bottom-color: var(--fill-color);\n",
              "    }\n",
              "    90% {\n",
              "      border-color: transparent;\n",
              "      border-bottom-color: var(--fill-color);\n",
              "    }\n",
              "  }\n",
              "</style>\n",
              "\n",
              "  <script>\n",
              "    async function quickchart(key) {\n",
              "      const quickchartButtonEl =\n",
              "        document.querySelector('#' + key + ' button');\n",
              "      quickchartButtonEl.disabled = true;  // To prevent multiple clicks.\n",
              "      quickchartButtonEl.classList.add('colab-df-spinner');\n",
              "      try {\n",
              "        const charts = await google.colab.kernel.invokeFunction(\n",
              "            'suggestCharts', [key], {});\n",
              "      } catch (error) {\n",
              "        console.error('Error during call to suggestCharts:', error);\n",
              "      }\n",
              "      quickchartButtonEl.classList.remove('colab-df-spinner');\n",
              "      quickchartButtonEl.classList.add('colab-df-quickchart-complete');\n",
              "    }\n",
              "    (() => {\n",
              "      let quickchartButtonEl =\n",
              "        document.querySelector('#df-e6993ac7-68f1-4a95-a659-a98010ee5a18 button');\n",
              "      quickchartButtonEl.style.display =\n",
              "        google.colab.kernel.accessAllowed ? 'block' : 'none';\n",
              "    })();\n",
              "  </script>\n",
              "</div>\n",
              "\n",
              "  <div id=\"id_9e0caa75-8cdb-4cde-8f2e-06f27823fb4b\">\n",
              "    <style>\n",
              "      .colab-df-generate {\n",
              "        background-color: #E8F0FE;\n",
              "        border: none;\n",
              "        border-radius: 50%;\n",
              "        cursor: pointer;\n",
              "        display: none;\n",
              "        fill: #1967D2;\n",
              "        height: 32px;\n",
              "        padding: 0 0 0 0;\n",
              "        width: 32px;\n",
              "      }\n",
              "\n",
              "      .colab-df-generate:hover {\n",
              "        background-color: #E2EBFA;\n",
              "        box-shadow: 0px 1px 2px rgba(60, 64, 67, 0.3), 0px 1px 3px 1px rgba(60, 64, 67, 0.15);\n",
              "        fill: #174EA6;\n",
              "      }\n",
              "\n",
              "      [theme=dark] .colab-df-generate {\n",
              "        background-color: #3B4455;\n",
              "        fill: #D2E3FC;\n",
              "      }\n",
              "\n",
              "      [theme=dark] .colab-df-generate:hover {\n",
              "        background-color: #434B5C;\n",
              "        box-shadow: 0px 1px 3px 1px rgba(0, 0, 0, 0.15);\n",
              "        filter: drop-shadow(0px 1px 2px rgba(0, 0, 0, 0.3));\n",
              "        fill: #FFFFFF;\n",
              "      }\n",
              "    </style>\n",
              "    <button class=\"colab-df-generate\" onclick=\"generateWithVariable('dataset')\"\n",
              "            title=\"Generate code using this dataframe.\"\n",
              "            style=\"display:none;\">\n",
              "\n",
              "  <svg xmlns=\"http://www.w3.org/2000/svg\" height=\"24px\"viewBox=\"0 0 24 24\"\n",
              "       width=\"24px\">\n",
              "    <path d=\"M7,19H8.4L18.45,9,17,7.55,7,17.6ZM5,21V16.75L18.45,3.32a2,2,0,0,1,2.83,0l1.4,1.43a1.91,1.91,0,0,1,.58,1.4,1.91,1.91,0,0,1-.58,1.4L9.25,21ZM18.45,9,17,7.55Zm-12,3A5.31,5.31,0,0,0,4.9,8.1,5.31,5.31,0,0,0,1,6.5,5.31,5.31,0,0,0,4.9,4.9,5.31,5.31,0,0,0,6.5,1,5.31,5.31,0,0,0,8.1,4.9,5.31,5.31,0,0,0,12,6.5,5.46,5.46,0,0,0,6.5,12Z\"/>\n",
              "  </svg>\n",
              "    </button>\n",
              "    <script>\n",
              "      (() => {\n",
              "      const buttonEl =\n",
              "        document.querySelector('#id_9e0caa75-8cdb-4cde-8f2e-06f27823fb4b button.colab-df-generate');\n",
              "      buttonEl.style.display =\n",
              "        google.colab.kernel.accessAllowed ? 'block' : 'none';\n",
              "\n",
              "      buttonEl.onclick = () => {\n",
              "        google.colab.notebook.generateWithVariable('dataset');\n",
              "      }\n",
              "      })();\n",
              "    </script>\n",
              "  </div>\n",
              "\n",
              "    </div>\n",
              "  </div>\n"
            ],
            "application/vnd.google.colaboratory.intrinsic+json": {
              "type": "dataframe",
              "variable_name": "dataset",
              "summary": "{\n  \"name\": \"dataset\",\n  \"rows\": 60,\n  \"fields\": [\n    {\n      \"column\": \"Per\\u00edodo\",\n      \"properties\": {\n        \"dtype\": \"date\",\n        \"min\": \"2018-10-01 00:00:00\",\n        \"max\": \"2023-09-01 00:00:00\",\n        \"num_unique_values\": 60,\n        \"samples\": [\n          \"2018-10-01 00:00:00\",\n          \"2019-03-01 00:00:00\",\n          \"2021-10-01 00:00:00\"\n        ],\n        \"semantic_type\": \"\",\n        \"description\": \"\"\n      }\n    },\n    {\n      \"column\": \"Municipio\",\n      \"properties\": {\n        \"dtype\": \"category\",\n        \"num_unique_values\": 1,\n        \"samples\": [\n          \"FLORIAN\\u00d3POLIS\"\n        ],\n        \"semantic_type\": \"\",\n        \"description\": \"\"\n      }\n    },\n    {\n      \"column\": \"Atendimento Individual\",\n      \"properties\": {\n        \"dtype\": \"number\",\n        \"std\": 27711,\n        \"min\": 24110,\n        \"max\": 122672,\n        \"num_unique_values\": 60,\n        \"samples\": [\n          36895\n        ],\n        \"semantic_type\": \"\",\n        \"description\": \"\"\n      }\n    }\n  ]\n}"
            }
          },
          "metadata": {},
          "execution_count": 5
        }
      ],
      "source": [
        "dataset"
      ]
    },
    {
      "cell_type": "code",
      "execution_count": null,
      "metadata": {
        "colab": {
          "base_uri": "https://localhost:8080/"
        },
        "id": "XD5JP6a_Zy0R",
        "outputId": "5dd4bf19-af30-46a0-f8c4-0bd1da09feef"
      },
      "outputs": [
        {
          "output_type": "stream",
          "name": "stderr",
          "text": [
            "<ipython-input-6-2ebd8d70aae8>:2: SettingWithCopyWarning: \n",
            "A value is trying to be set on a copy of a slice from a DataFrame.\n",
            "Try using .loc[row_indexer,col_indexer] = value instead\n",
            "\n",
            "See the caveats in the documentation: https://pandas.pydata.org/pandas-docs/stable/user_guide/indexing.html#returning-a-view-versus-a-copy\n",
            "  time_series['Período'] = pd.to_datetime(time_series['Período'], format='%d/%m/%Y')\n",
            "<ipython-input-6-2ebd8d70aae8>:3: SettingWithCopyWarning: \n",
            "A value is trying to be set on a copy of a slice from a DataFrame.\n",
            "Try using .loc[row_indexer,col_indexer] = value instead\n",
            "\n",
            "See the caveats in the documentation: https://pandas.pydata.org/pandas-docs/stable/user_guide/indexing.html#returning-a-view-versus-a-copy\n",
            "  time_series['Atendimento Individual'] = pd.to_numeric(time_series['Atendimento Individual'])\n"
          ]
        }
      ],
      "source": [
        "time_series = dataset[['Período', 'Atendimento Individual']]\n",
        "time_series['Período'] = pd.to_datetime(time_series['Período'], format='%d/%m/%Y')\n",
        "time_series['Atendimento Individual'] = pd.to_numeric(time_series['Atendimento Individual'])\n",
        "#time_series['Período'] = time_series['Período'].dt.strftime('%m-%Y')\n",
        "\n",
        "#time_series = time_series.set_index('Período')\n"
      ]
    },
    {
      "cell_type": "code",
      "source": [
        "X_base = time_series['Atendimento Individual']"
      ],
      "metadata": {
        "id": "zeJKo6Qd-k6e"
      },
      "execution_count": null,
      "outputs": []
    },
    {
      "cell_type": "code",
      "execution_count": null,
      "metadata": {
        "id": "HubtxcNLZvOp"
      },
      "outputs": [],
      "source": [
        "time_series = time_series.set_index('Período').resample('M').mean()"
      ]
    },
    {
      "cell_type": "code",
      "execution_count": null,
      "metadata": {
        "id": "evTY8TCZbzh9"
      },
      "outputs": [],
      "source": [
        "X = time_series['Atendimento Individual']"
      ]
    },
    {
      "cell_type": "code",
      "execution_count": null,
      "metadata": {
        "colab": {
          "base_uri": "https://localhost:8080/"
        },
        "id": "ASDzY1OE3KyR",
        "outputId": "3275aa96-91ce-45e8-bcb8-b1973570e7c9"
      },
      "outputs": [
        {
          "output_type": "execute_result",
          "data": {
            "text/plain": [
              "Período\n",
              "2018-10-31     36895.0\n",
              "2018-11-30     30753.0\n",
              "2018-12-31     25652.0\n",
              "2019-01-31     31905.0\n",
              "2019-02-28     26637.0\n",
              "2019-03-31     53775.0\n",
              "2019-04-30     75869.0\n",
              "2019-05-31     79384.0\n",
              "2019-06-30     63603.0\n",
              "2019-07-31     78274.0\n",
              "2019-08-31     78241.0\n",
              "2019-09-30     75408.0\n",
              "2019-10-31     82515.0\n",
              "2019-11-30     73627.0\n",
              "2019-12-31     61838.0\n",
              "2020-01-31     25889.0\n",
              "2020-02-29     39024.0\n",
              "2020-03-31     28944.0\n",
              "2020-04-30     28022.0\n",
              "2020-05-31     32455.0\n",
              "2020-06-30     38543.0\n",
              "2020-07-31     24110.0\n",
              "2020-08-31     30724.0\n",
              "2020-09-30     35930.0\n",
              "2020-10-31     48585.0\n",
              "2020-11-30     55323.0\n",
              "2020-12-31     50085.0\n",
              "2021-01-31     84670.0\n",
              "2021-02-28     89837.0\n",
              "2021-03-31    102976.0\n",
              "2021-04-30     84889.0\n",
              "2021-05-31    103789.0\n",
              "2021-06-30     94551.0\n",
              "2021-07-31     91504.0\n",
              "2021-08-31     91004.0\n",
              "2021-09-30     87109.0\n",
              "2021-10-31     82470.0\n",
              "2021-11-30     80850.0\n",
              "2021-12-31    112282.0\n",
              "2022-01-31    122672.0\n",
              "2022-02-28     69110.0\n",
              "2022-03-31    104742.0\n",
              "2022-04-30     81733.0\n",
              "2022-05-31    101465.0\n",
              "2022-06-30     84228.0\n",
              "2022-07-31     96906.0\n",
              "2022-08-31    100683.0\n",
              "2022-09-30     93430.0\n",
              "2022-10-31     91981.0\n",
              "2022-11-30     84996.0\n",
              "2022-12-31     78599.0\n",
              "2023-01-31     90119.0\n",
              "2023-02-28     80030.0\n",
              "2023-03-31    107285.0\n",
              "2023-04-30     94727.0\n",
              "2023-05-31    110978.0\n",
              "2023-06-30     76582.0\n",
              "2023-07-31     97963.0\n",
              "2023-08-31    113447.0\n",
              "2023-09-30     89507.0\n",
              "Freq: M, Name: Atendimento Individual, dtype: float64"
            ]
          },
          "metadata": {},
          "execution_count": 10
        }
      ],
      "source": [
        "X"
      ]
    },
    {
      "cell_type": "markdown",
      "metadata": {
        "id": "jJc2ph7H_Ozc"
      },
      "source": [
        "#SARIMA\n"
      ]
    },
    {
      "cell_type": "code",
      "execution_count": null,
      "metadata": {
        "colab": {
          "base_uri": "https://localhost:8080/",
          "height": 452
        },
        "id": "afSRRT3Y_QhM",
        "outputId": "b877c566-1bc3-438b-ddf0-f6a85fc0bf36"
      },
      "outputs": [
        {
          "output_type": "display_data",
          "data": {
            "text/plain": [
              "<Figure size 640x480 with 1 Axes>"
            ],
            "image/png": "[encoded data removed]"
          },
          "metadata": {}
        }
      ],
      "source": [
        "plot_acf(X)\n",
        "plt.show()"
      ]
    },
    {
      "cell_type": "code",
      "execution_count": null,
      "metadata": {
        "colab": {
          "base_uri": "https://localhost:8080/",
          "height": 452
        },
        "id": "9tnFIYq__S6s",
        "outputId": "c33ea32d-e2d5-456f-87b8-a81d9130c4f5"
      },
      "outputs": [
        {
          "output_type": "display_data",
          "data": {
            "text/plain": [
              "<Figure size 640x480 with 1 Axes>"
            ],
            "image/png": "[encoded data removed]"
          },
          "metadata": {}
        }
      ],
      "source": [
        "plot_pacf(X, method='ywm')\n",
        "plt.show()"
      ]
    },
    {
      "cell_type": "code",
      "execution_count": null,
      "metadata": {
        "colab": {
          "base_uri": "https://localhost:8080/",
          "height": 81
        },
        "id": "A5hQc9QlB1Mh",
        "outputId": "da8a2f74-5f5e-43ac-9bff-45acaa5ecad6"
      },
      "outputs": [
        {
          "output_type": "execute_result",
          "data": {
            "text/plain": [
              "       lb_stat     lb_pvalue\n",
              "24  158.554227  8.389569e-22"
            ],
            "text/html": [
              "\n",
              "  <div id=\"df-57533ddf-32e1-4e62-a076-66838c6b1926\" class=\"colab-df-container\">\n",
              "    <div>\n",
              "<style scoped>\n",
              "    .dataframe tbody tr th:only-of-type {\n",
              "        vertical-align: middle;\n",
              "    }\n",
              "\n",
              "    .dataframe tbody tr th {\n",
              "        vertical-align: top;\n",
              "    }\n",
              "\n",
              "    .dataframe thead th {\n",
              "        text-align: right;\n",
              "    }\n",
              "</style>\n",
              "<table border=\"1\" class=\"dataframe\">\n",
              "  <thead>\n",
              "    <tr style=\"text-align: right;\">\n",
              "      <th></th>\n",
              "      <th>lb_stat</th>\n",
              "      <th>lb_pvalue</th>\n",
              "    </tr>\n",
              "  </thead>\n",
              "  <tbody>\n",
              "    <tr>\n",
              "      <th>24</th>\n",
              "      <td>158.554227</td>\n",
              "      <td>8.389569e-22</td>\n",
              "    </tr>\n",
              "  </tbody>\n",
              "</table>\n",
              "</div>\n",
              "    <div class=\"colab-df-buttons\">\n",
              "\n",
              "  <div class=\"colab-df-container\">\n",
              "    <button class=\"colab-df-convert\" onclick=\"convertToInteractive('df-57533ddf-32e1-4e62-a076-66838c6b1926')\"\n",
              "            title=\"Convert this dataframe to an interactive table.\"\n",
              "            style=\"display:none;\">\n",
              "\n",
              "  <svg xmlns=\"http://www.w3.org/2000/svg\" height=\"24px\" viewBox=\"0 -960 960 960\">\n",
              "    <path d=\"M120-120v-720h720v720H120Zm60-500h600v-160H180v160Zm220 220h160v-160H400v160Zm0 220h160v-160H400v160ZM180-400h160v-160H180v160Zm440 0h160v-160H620v160ZM180-180h160v-160H180v160Zm440 0h160v-160H620v160Z\"/>\n",
              "  </svg>\n",
              "    </button>\n",
              "\n",
              "  <style>\n",
              "    .colab-df-container {\n",
              "      display:flex;\n",
              "      gap: 12px;\n",
              "    }\n",
              "\n",
              "    .colab-df-convert {\n",
              "      background-color: #E8F0FE;\n",
              "      border: none;\n",
              "      border-radius: 50%;\n",
              "      cursor: pointer;\n",
              "      display: none;\n",
              "      fill: #1967D2;\n",
              "      height: 32px;\n",
              "      padding: 0 0 0 0;\n",
              "      width: 32px;\n",
              "    }\n",
              "\n",
              "    .colab-df-convert:hover {\n",
              "      background-color: #E2EBFA;\n",
              "      box-shadow: 0px 1px 2px rgba(60, 64, 67, 0.3), 0px 1px 3px 1px rgba(60, 64, 67, 0.15);\n",
              "      fill: #174EA6;\n",
              "    }\n",
              "\n",
              "    .colab-df-buttons div {\n",
              "      margin-bottom: 4px;\n",
              "    }\n",
              "\n",
              "    [theme=dark] .colab-df-convert {\n",
              "      background-color: #3B4455;\n",
              "      fill: #D2E3FC;\n",
              "    }\n",
              "\n",
              "    [theme=dark] .colab-df-convert:hover {\n",
              "      background-color: #434B5C;\n",
              "      box-shadow: 0px 1px 3px 1px rgba(0, 0, 0, 0.15);\n",
              "      filter: drop-shadow(0px 1px 2px rgba(0, 0, 0, 0.3));\n",
              "      fill: #FFFFFF;\n",
              "    }\n",
              "  </style>\n",
              "\n",
              "    <script>\n",
              "      const buttonEl =\n",
              "        document.querySelector('#df-57533ddf-32e1-4e62-a076-66838c6b1926 button.colab-df-convert');\n",
              "      buttonEl.style.display =\n",
              "        google.colab.kernel.accessAllowed ? 'block' : 'none';\n",
              "\n",
              "      async function convertToInteractive(key) {\n",
              "        const element = document.querySelector('#df-57533ddf-32e1-4e62-a076-66838c6b1926');\n",
              "        const dataTable =\n",
              "          await google.colab.kernel.invokeFunction('convertToInteractive',\n",
              "                                                    [key], {});\n",
              "        if (!dataTable) return;\n",
              "\n",
              "        const docLinkHtml = 'Like what you see? Visit the ' +\n",
              "          '<a target=\"_blank\" href=https://colab.research.google.com/notebooks/data_table.ipynb>data table notebook</a>'\n",
              "          + ' to learn more about interactive tables.';\n",
              "        element.innerHTML = '';\n",
              "        dataTable['output_type'] = 'display_data';\n",
              "        await google.colab.output.renderOutput(dataTable, element);\n",
              "        const docLink = document.createElement('div');\n",
              "        docLink.innerHTML = docLinkHtml;\n",
              "        element.appendChild(docLink);\n",
              "      }\n",
              "    </script>\n",
              "  </div>\n",
              "\n",
              "\n",
              "    </div>\n",
              "  </div>\n"
            ],
            "application/vnd.google.colaboratory.intrinsic+json": {
              "type": "dataframe",
              "summary": "{\n  \"name\": \"acorr_ljungbox(X, lags=[24])\",\n  \"rows\": 1,\n  \"fields\": [\n    {\n      \"column\": \"lb_stat\",\n      \"properties\": {\n        \"dtype\": \"number\",\n        \"std\": null,\n        \"min\": 158.55422659718653,\n        \"max\": 158.55422659718653,\n        \"num_unique_values\": 1,\n        \"samples\": [\n          158.55422659718653\n        ],\n        \"semantic_type\": \"\",\n        \"description\": \"\"\n      }\n    },\n    {\n      \"column\": \"lb_pvalue\",\n      \"properties\": {\n        \"dtype\": \"number\",\n        \"std\": null,\n        \"min\": 8.389568563468759e-22,\n        \"max\": 8.389568563468759e-22,\n        \"num_unique_values\": 1,\n        \"samples\": [\n          8.389568563468759e-22\n        ],\n        \"semantic_type\": \"\",\n        \"description\": \"\"\n      }\n    }\n  ]\n}"
            }
          },
          "metadata": {},
          "execution_count": 13
        }
      ],
      "source": [
        "acorr_ljungbox(X, lags=[24])"
      ]
    },
    {
      "cell_type": "code",
      "execution_count": null,
      "metadata": {
        "colab": {
          "base_uri": "https://localhost:8080/"
        },
        "id": "oXUswhMvFuY6",
        "outputId": "20bff6f5-70eb-4576-fbfe-a29a8949b85a"
      },
      "outputs": [
        {
          "output_type": "stream",
          "name": "stdout",
          "text": [
            "Performing stepwise search to minimize aic\n",
            " ARIMA(1,1,1)(0,1,1)[12]             : AIC=1065.295, Time=0.22 sec\n",
            " ARIMA(0,1,0)(0,1,0)[12]             : AIC=1077.662, Time=0.03 sec\n",
            " ARIMA(1,1,0)(1,1,0)[12]             : AIC=1066.100, Time=0.08 sec\n",
            " ARIMA(0,1,1)(0,1,1)[12]             : AIC=1063.361, Time=0.11 sec\n",
            " ARIMA(0,1,1)(0,1,0)[12]             : AIC=1077.483, Time=0.04 sec\n",
            " ARIMA(0,1,1)(1,1,1)[12]             : AIC=1064.574, Time=0.20 sec\n",
            " ARIMA(0,1,1)(0,1,2)[12]             : AIC=1064.539, Time=0.23 sec\n",
            " ARIMA(0,1,1)(1,1,0)[12]             : AIC=1065.380, Time=0.08 sec\n",
            " ARIMA(0,1,1)(1,1,2)[12]             : AIC=1066.538, Time=0.56 sec\n",
            " ARIMA(0,1,0)(0,1,1)[12]             : AIC=1061.738, Time=0.07 sec\n",
            " ARIMA(0,1,0)(1,1,1)[12]             : AIC=inf, Time=0.36 sec\n",
            " ARIMA(0,1,0)(0,1,2)[12]             : AIC=1065.325, Time=0.33 sec\n",
            " ARIMA(0,1,0)(1,1,0)[12]             : AIC=1064.863, Time=0.12 sec\n",
            " ARIMA(0,1,0)(1,1,2)[12]             : AIC=1067.277, Time=0.94 sec\n",
            " ARIMA(1,1,0)(0,1,1)[12]             : AIC=1063.858, Time=0.19 sec\n",
            " ARIMA(0,1,0)(0,1,1)[12] intercept   : AIC=1066.186, Time=0.19 sec\n",
            "\n",
            "Best model:  ARIMA(0,1,0)(0,1,1)[12]          \n",
            "Total fit time: 3.782 seconds\n"
          ]
        }
      ],
      "source": [
        "sarima_model = auto_arima(X,start_p=1, start_q=1,max_p=6, max_q=6, m=12, start_P=0, seasonal=True, d=1, D=1, trace=True, error_action='ignore',\n",
        "                            suppress_warnings=True, stepwise=True)\n"
      ]
    },
    {
      "cell_type": "code",
      "execution_count": null,
      "metadata": {
        "id": "8tfF7URs26zf"
      },
      "outputs": [],
      "source": [
        "train = X.loc[:'2022-06-30']\n",
        "test = X.loc['2022-07-01':]"
      ]
    },
    {
      "cell_type": "code",
      "source": [
        "len(test)"
      ],
      "metadata": {
        "colab": {
          "base_uri": "https://localhost:8080/"
        },
        "id": "kd2K6ZobBueq",
        "outputId": "b0b759a9-fe83-4aac-a346-97b8e1d63106"
      },
      "execution_count": null,
      "outputs": [
        {
          "output_type": "execute_result",
          "data": {
            "text/plain": [
              "15"
            ]
          },
          "metadata": {},
          "execution_count": 17
        }
      ]
    },
    {
      "cell_type": "code",
      "execution_count": null,
      "metadata": {
        "colab": {
          "base_uri": "https://localhost:8080/",
          "height": 75
        },
        "id": "ZLajixpXcidM",
        "outputId": "cad1d4a6-6efe-4d92-ad82-722447b7d4a7"
      },
      "outputs": [
        {
          "output_type": "execute_result",
          "data": {
            "text/plain": [
              "ARIMA(order=(0, 1, 0), scoring_args={}, seasonal_order=(0, 1, 1, 12),\n",
              "      suppress_warnings=True, with_intercept=False)"
            ],
            "text/html": [
              "<style>#sk-container-id-1 {color: black;background-color: white;}#sk-container-id-1 pre{padding: 0;}#sk-container-id-1 div.sk-toggleable {background-color: white;}#sk-container-id-1 label.sk-toggleable__label {cursor: pointer;display: block;width: 100%;margin-bottom: 0;padding: 0.3em;box-sizing: border-box;text-align: center;}#sk-container-id-1 label.sk-toggleable__label-arrow:before {content: \"▸\";float: left;margin-right: 0.25em;color: #696969;}#sk-container-id-1 label.sk-toggleable__label-arrow:hover:before {color: black;}#sk-container-id-1 div.sk-estimator:hover label.sk-toggleable__label-arrow:before {color: black;}#sk-container-id-1 div.sk-toggleable__content {max-height: 0;max-width: 0;overflow: hidden;text-align: left;background-color: #f0f8ff;}#sk-container-id-1 div.sk-toggleable__content pre {margin: 0.2em;color: black;border-radius: 0.25em;background-color: #f0f8ff;}#sk-container-id-1 input.sk-toggleable__control:checked~div.sk-toggleable__content {max-height: 200px;max-width: 100%;overflow: auto;}#sk-container-id-1 input.sk-toggleable__control:checked~label.sk-toggleable__label-arrow:before {content: \"▾\";}#sk-container-id-1 div.sk-estimator input.sk-toggleable__control:checked~label.sk-toggleable__label {background-color: #d4ebff;}#sk-container-id-1 div.sk-label input.sk-toggleable__control:checked~label.sk-toggleable__label {background-color: #d4ebff;}#sk-container-id-1 input.sk-hidden--visually {border: 0;clip: rect(1px 1px 1px 1px);clip: rect(1px, 1px, 1px, 1px);height: 1px;margin: -1px;overflow: hidden;padding: 0;position: absolute;width: 1px;}#sk-container-id-1 div.sk-estimator {font-family: monospace;background-color: #f0f8ff;border: 1px dotted black;border-radius: 0.25em;box-sizing: border-box;margin-bottom: 0.5em;}#sk-container-id-1 div.sk-estimator:hover {background-color: #d4ebff;}#sk-container-id-1 div.sk-parallel-item::after {content: \"\";width: 100%;border-bottom: 1px solid gray;flex-grow: 1;}#sk-container-id-1 div.sk-label:hover label.sk-toggleable__label {background-color: #d4ebff;}#sk-container-id-1 div.sk-serial::before {content: \"\";position: absolute;border-left: 1px solid gray;box-sizing: border-box;top: 0;bottom: 0;left: 50%;z-index: 0;}#sk-container-id-1 div.sk-serial {display: flex;flex-direction: column;align-items: center;background-color: white;padding-right: 0.2em;padding-left: 0.2em;position: relative;}#sk-container-id-1 div.sk-item {position: relative;z-index: 1;}#sk-container-id-1 div.sk-parallel {display: flex;align-items: stretch;justify-content: center;background-color: white;position: relative;}#sk-container-id-1 div.sk-item::before, #sk-container-id-1 div.sk-parallel-item::before {content: \"\";position: absolute;border-left: 1px solid gray;box-sizing: border-box;top: 0;bottom: 0;left: 50%;z-index: -1;}#sk-container-id-1 div.sk-parallel-item {display: flex;flex-direction: column;z-index: 1;position: relative;background-color: white;}#sk-container-id-1 div.sk-parallel-item:first-child::after {align-self: flex-end;width: 50%;}#sk-container-id-1 div.sk-parallel-item:last-child::after {align-self: flex-start;width: 50%;}#sk-container-id-1 div.sk-parallel-item:only-child::after {width: 0;}#sk-container-id-1 div.sk-dashed-wrapped {border: 1px dashed gray;margin: 0 0.4em 0.5em 0.4em;box-sizing: border-box;padding-bottom: 0.4em;background-color: white;}#sk-container-id-1 div.sk-label label {font-family: monospace;font-weight: bold;display: inline-block;line-height: 1.2em;}#sk-container-id-1 div.sk-label-container {text-align: center;}#sk-container-id-1 div.sk-container {/* jupyter's `normalize.less` sets `[hidden] { display: none; }` but bootstrap.min.css set `[hidden] { display: none !important; }` so we also need the `!important` here to be able to override the default hidden behavior on the sphinx rendered scikit-learn.org. See: https://github.com/scikit-learn/scikit-learn/issues/21755 */display: inline-block !important;position: relative;}#sk-container-id-1 div.sk-text-repr-fallback {display: none;}</style><div id=\"sk-container-id-1\" class=\"sk-top-container\"><div class=\"sk-text-repr-fallback\"><pre> ARIMA(0,1,0)(0,1,1)[12]          </pre><b>In a Jupyter environment, please rerun this cell to show the HTML representation or trust the notebook. <br />On GitHub, the HTML representation is unable to render, please try loading this page with nbviewer.org.</b></div><div class=\"sk-container\" hidden><div class=\"sk-item\"><div class=\"sk-estimator sk-toggleable\"><input class=\"sk-toggleable__control sk-hidden--visually\" id=\"sk-estimator-id-1\" type=\"checkbox\" checked><label for=\"sk-estimator-id-1\" class=\"sk-toggleable__label sk-toggleable__label-arrow\">ARIMA</label><div class=\"sk-toggleable__content\"><pre> ARIMA(0,1,0)(0,1,1)[12]          </pre></div></div></div></div></div>"
            ]
          },
          "metadata": {},
          "execution_count": 18
        }
      ],
      "source": [
        "sarima_model.fit(train)"
      ]
    },
    {
      "cell_type": "code",
      "execution_count": null,
      "metadata": {
        "id": "un1A7oWmfakP"
      },
      "outputs": [],
      "source": [
        "sarima_future_forecast = sarima_model.predict(n_periods=30)"
      ]
    },
    {
      "cell_type": "code",
      "source": [
        "sarima_future_forecast"
      ],
      "metadata": {
        "colab": {
          "base_uri": "https://localhost:8080/"
        },
        "id": "3_u37Ry5FnQs",
        "outputId": "7d427814-a2f1-4a3d-e9f8-5685b74a856d"
      },
      "execution_count": null,
      "outputs": [
        {
          "output_type": "execute_result",
          "data": {
            "text/plain": [
              "2022-07-31     82002.530511\n",
              "2022-08-31     83537.706349\n",
              "2022-09-30     82837.817207\n",
              "2022-10-31     89652.512248\n",
              "2022-11-30     88516.179626\n",
              "2022-12-31     96618.392590\n",
              "2023-01-31    103877.305661\n",
              "2023-02-28     86379.831471\n",
              "2023-03-31    104625.166114\n",
              "2023-04-30     93924.036221\n",
              "2023-05-31    107157.035974\n",
              "2023-06-30     97512.829649\n",
              "2023-07-31     95287.360160\n",
              "2023-08-31     96822.535998\n",
              "2023-09-30     96122.646856\n",
              "2023-10-31    102937.341897\n",
              "2023-11-30    101801.009275\n",
              "2023-12-31    109903.222239\n",
              "2024-01-31    117162.135310\n",
              "2024-02-29     99664.661120\n",
              "2024-03-31    117909.995763\n",
              "2024-04-30    107208.865871\n",
              "2024-05-31    120441.865623\n",
              "2024-06-30    110797.659298\n",
              "2024-07-31    108572.189809\n",
              "2024-08-31    110107.365647\n",
              "2024-09-30    109407.476505\n",
              "2024-10-31    116222.171546\n",
              "2024-11-30    115085.838924\n",
              "2024-12-31    123188.051888\n",
              "Freq: M, dtype: float64"
            ]
          },
          "metadata": {},
          "execution_count": 20
        }
      ]
    },
    {
      "cell_type": "code",
      "source": [
        "sarima_future_forecast_1 = sarima_future_forecast[:'09-30-2023']\n",
        "sarima_future_forecast_2 = sarima_future_forecast['10-1-2023':]"
      ],
      "metadata": {
        "id": "Ns-D_CbHVReU"
      },
      "execution_count": null,
      "outputs": []
    },
    {
      "cell_type": "code",
      "source": [
        "sarima_future_forecast_2"
      ],
      "metadata": {
        "colab": {
          "base_uri": "https://localhost:8080/"
        },
        "id": "Chovc1RyGc8V",
        "outputId": "3819e621-9db2-4bab-e63c-b7d5ad5870d4"
      },
      "execution_count": null,
      "outputs": [
        {
          "output_type": "execute_result",
          "data": {
            "text/plain": [
              "2023-10-31    102937.341897\n",
              "2023-11-30    101801.009275\n",
              "2023-12-31    109903.222239\n",
              "2024-01-31    117162.135310\n",
              "2024-02-29     99664.661120\n",
              "2024-03-31    117909.995763\n",
              "2024-04-30    107208.865871\n",
              "2024-05-31    120441.865623\n",
              "2024-06-30    110797.659298\n",
              "2024-07-31    108572.189809\n",
              "2024-08-31    110107.365647\n",
              "2024-09-30    109407.476505\n",
              "2024-10-31    116222.171546\n",
              "2024-11-30    115085.838924\n",
              "2024-12-31    123188.051888\n",
              "Freq: M, dtype: float64"
            ]
          },
          "metadata": {},
          "execution_count": 75
        }
      ]
    },
    {
      "cell_type": "code",
      "execution_count": null,
      "metadata": {
        "colab": {
          "base_uri": "https://localhost:8080/",
          "height": 449
        },
        "id": "nJtUv2vZgmqs",
        "outputId": "9d49c1ac-7c21-4634-f2b7-2a6fb524b855"
      },
      "outputs": [
        {
          "output_type": "display_data",
          "data": {
            "text/plain": [
              "<Figure size 640x480 with 1 Axes>"
            ],
            "image/png": "[encoded data removed]"
          },
          "metadata": {}
        }
      ],
      "source": [
        "sarima_future_forecast_2.plot(marker='', color='red', legend=True, label='Previsto')\n",
        "X.plot(marker='', color='blue', legend=True, label='Real')\n",
        "\n",
        "plt.show()"
      ]
    },
    {
      "cell_type": "code",
      "execution_count": null,
      "metadata": {
        "id": "f13kfcTqYoV4"
      },
      "outputs": [],
      "source": [
        "\n",
        "# Parâmetros para calcular os intervalos de confiança\n",
        "alpha_95 = 0.05  # Nível de significância para intervalo de confiança de 95%\n",
        "alpha_80 = 0.2\n",
        "z_critical_95 = stats.norm.ppf(1 - alpha_95 / 2)  # Valor crítico para distribuição normal padrão\n",
        "z_critical_80 = stats.norm.ppf(1 - alpha_80 / 2)\n",
        "\n",
        "# Calcular intervalo de confiança\n",
        "forecast_mean = sarima_future_forecast_2  # Supondo que as previsões já foram calculadas\n",
        "forecast_std = np.std(X)  # Desvio padrão dos dados históricos\n",
        "\n",
        "lower_bound_95 = forecast_mean - z_critical_95 * forecast_std\n",
        "upper_bound_95 = forecast_mean + z_critical_95 * forecast_std\n",
        "\n",
        "lower_bound_80 = forecast_mean - z_critical_80 * forecast_std\n",
        "upper_bound_80 = forecast_mean + z_critical_80 * forecast_std"
      ]
    },
    {
      "cell_type": "code",
      "execution_count": null,
      "metadata": {
        "colab": {
          "base_uri": "https://localhost:8080/"
        },
        "id": "bACEqWI0ccRx",
        "outputId": "5529067d-07af-43a4-9f2f-6dddb65625ab"
      },
      "outputs": [
        {
          "output_type": "execute_result",
          "data": {
            "text/plain": [
              "DatetimeIndex(['2022-07-31', '2022-08-31', '2022-09-30', '2022-10-31',\n",
              "               '2022-11-30', '2022-12-31', '2023-01-31', '2023-02-28',\n",
              "               '2023-03-31', '2023-04-30', '2023-05-31', '2023-06-30',\n",
              "               '2023-07-31', '2023-08-31', '2023-09-30', '2023-10-31',\n",
              "               '2023-11-30', '2023-12-31', '2024-01-31', '2024-02-29',\n",
              "               '2024-03-31', '2024-04-30', '2024-05-31', '2024-06-30',\n",
              "               '2024-07-31', '2024-08-31', '2024-09-30', '2024-10-31',\n",
              "               '2024-11-30', '2024-12-31'],\n",
              "              dtype='datetime64[ns]', freq='M')"
            ]
          },
          "metadata": {},
          "execution_count": 78
        }
      ],
      "source": [
        "sarima_future_forecast.index"
      ]
    },
    {
      "cell_type": "code",
      "execution_count": null,
      "metadata": {
        "colab": {
          "base_uri": "https://localhost:8080/",
          "height": 504
        },
        "id": "cVipYP5rbPk0",
        "outputId": "6c09372c-b4bc-4547-e66a-c75e9b14eb84"
      },
      "outputs": [
        {
          "output_type": "execute_result",
          "data": {
            "text/plain": [
              "<matplotlib.legend.Legend at 0x7d18116dabc0>"
            ]
          },
          "metadata": {},
          "execution_count": 82
        },
        {
          "output_type": "display_data",
          "data": {
            "text/plain": [
              "<Figure size 1200x500 with 1 Axes>"
            ],
            "image/png": "[encoded data removed]"
          },
          "metadata": {}
        }
      ],
      "source": [
        "# Plotting\n",
        "plt.figure(figsize=(12, 5))\n",
        "X.plot(marker='', label='Previsão')\n",
        "sarima_future_forecast_2.plot(marker='', label='Dados reais')\n",
        "\n",
        "\n",
        "# Plotting confidence intervals\n",
        "plt.fill_between(sarima_future_forecast_2.index, lower_bound_95, upper_bound_95, color='gray', alpha=0.2, label='Intervalo de Confiança (95%)')\n",
        "plt.fill_between(sarima_future_forecast_2.index, lower_bound_80, upper_bound_80, color='blue', alpha=0.2, label='Intervalo de Confiança (80%)')\n",
        "plt.title('Previsao SARIMA com Intervalo de Confianca')\n",
        "plt.xlabel('Ano')\n",
        "plt.ylabel('Numero de Atendimentos Individuais')\n",
        "plt.legend(loc='upper left')"
      ]
    },
    {
      "cell_type": "code",
      "execution_count": null,
      "metadata": {
        "colab": {
          "base_uri": "https://localhost:8080/"
        },
        "id": "qyOJeodPgoWK",
        "outputId": "e94a5c0f-0f59-4fd6-f09a-98bf7844c3f5"
      },
      "outputs": [
        {
          "output_type": "stream",
          "name": "stdout",
          "text": [
            "MAE: 9383.165671436955\n",
            "MSE: 132540646.35191424\n",
            "RMSE: 11512.629862542886\n",
            "MAPE: 0.10361521281592578\n",
            "TU: 0.6576225008477189\n"
          ]
        }
      ],
      "source": [
        "# Calcular o Erro Absoluto Médio (MAE)\n",
        "mae = mean_absolute_error(test,sarima_future_forecast_1)\n",
        "print(f'MAE: {mae}')\n",
        "\n",
        "# Calcular o Erro Quadrático Médio (MSE)\n",
        "mse = mean_squared_error(test,sarima_future_forecast_1)\n",
        "print(f'MSE: {mse}')\n",
        "\n",
        "# Calcular a Raiz do Erro Quadrático Médio (RMSE)\n",
        "rmse = np.sqrt(mse)\n",
        "print(f'RMSE: {rmse}')\n",
        "\n",
        "mape = mean_absolute_percentage_error(test,sarima_future_forecast_1)\n",
        "print(f'MAPE: {mape}')\n",
        "\n",
        "TU = theil_u2(test, sarima_future_forecast_1)\n",
        "print(f'TU: {TU}')"
      ]
    },
    {
      "cell_type": "code",
      "execution_count": null,
      "metadata": {
        "id": "EKxJdFLQrwKQ"
      },
      "outputs": [],
      "source": [
        "model_fit = sarima_model.fit(train)"
      ]
    },
    {
      "cell_type": "code",
      "execution_count": null,
      "metadata": {
        "colab": {
          "base_uri": "https://localhost:8080/"
        },
        "id": "2MDsXX3CHxFX",
        "outputId": "52a9e38a-2b1d-4082-c870-7eb6e54f2083"
      },
      "outputs": [
        {
          "output_type": "execute_result",
          "data": {
            "text/plain": [
              "2.352087681174305"
            ]
          },
          "metadata": {},
          "execution_count": 85
        }
      ],
      "source": [
        "durbin_watson(model_fit.resid())"
      ]
    },
    {
      "cell_type": "markdown",
      "metadata": {
        "id": "iNDjh-5YR1ys"
      },
      "source": [
        "#ARIMA"
      ]
    },
    {
      "cell_type": "code",
      "execution_count": null,
      "metadata": {
        "colab": {
          "base_uri": "https://localhost:8080/"
        },
        "id": "14MQAfWcNju2",
        "outputId": "847e8244-934e-4666-83fe-4d5ae490896d"
      },
      "outputs": [
        {
          "output_type": "stream",
          "name": "stdout",
          "text": [
            "Performing stepwise search to minimize aic\n",
            " ARIMA(1,1,1)(0,0,0)[0] intercept   : AIC=1313.715, Time=0.13 sec\n",
            " ARIMA(0,1,0)(0,0,0)[0] intercept   : AIC=1320.809, Time=0.03 sec\n",
            " ARIMA(1,1,0)(0,0,0)[0] intercept   : AIC=1311.691, Time=0.07 sec\n",
            " ARIMA(0,1,1)(0,0,0)[0] intercept   : AIC=1313.149, Time=0.07 sec\n",
            " ARIMA(0,1,0)(0,0,0)[0]             : AIC=1318.979, Time=0.03 sec\n",
            " ARIMA(2,1,0)(0,0,0)[0] intercept   : AIC=1313.640, Time=0.06 sec\n",
            " ARIMA(2,1,1)(0,0,0)[0] intercept   : AIC=1315.710, Time=0.19 sec\n",
            " ARIMA(1,1,0)(0,0,0)[0]             : AIC=1310.367, Time=0.03 sec\n",
            " ARIMA(2,1,0)(0,0,0)[0]             : AIC=1312.363, Time=0.06 sec\n",
            " ARIMA(1,1,1)(0,0,0)[0]             : AIC=1312.443, Time=0.13 sec\n",
            " ARIMA(0,1,1)(0,0,0)[0]             : AIC=1311.712, Time=0.06 sec\n",
            " ARIMA(2,1,1)(0,0,0)[0]             : AIC=1314.436, Time=0.08 sec\n",
            "\n",
            "Best model:  ARIMA(1,1,0)(0,0,0)[0]          \n",
            "Total fit time: 0.988 seconds\n"
          ]
        }
      ],
      "source": [
        "arima_model = auto_arima(X,\n",
        "                         start_p=1, start_q=1,\n",
        "                         max_p=6, max_q=6,\n",
        "                         seasonal=False,  # Definindo como False para um modelo ARIMA\n",
        "                         d=1, D=1,\n",
        "                         trace=True,\n",
        "                         error_action='ignore',\n",
        "                         suppress_warnings=True,\n",
        "                         stepwise=True)"
      ]
    },
    {
      "cell_type": "code",
      "execution_count": null,
      "metadata": {
        "colab": {
          "base_uri": "https://localhost:8080/",
          "height": 75
        },
        "id": "lf8Q9DWmN2rN",
        "outputId": "eadcf652-5f8d-483a-cc98-adf2d94f94d6"
      },
      "outputs": [
        {
          "output_type": "execute_result",
          "data": {
            "text/plain": [
              "ARIMA(order=(1, 1, 0), scoring_args={}, suppress_warnings=True,\n",
              "      with_intercept=False)"
            ],
            "text/html": [
              "<style>#sk-container-id-4 {color: black;background-color: white;}#sk-container-id-4 pre{padding: 0;}#sk-container-id-4 div.sk-toggleable {background-color: white;}#sk-container-id-4 label.sk-toggleable__label {cursor: pointer;display: block;width: 100%;margin-bottom: 0;padding: 0.3em;box-sizing: border-box;text-align: center;}#sk-container-id-4 label.sk-toggleable__label-arrow:before {content: \"▸\";float: left;margin-right: 0.25em;color: #696969;}#sk-container-id-4 label.sk-toggleable__label-arrow:hover:before {color: black;}#sk-container-id-4 div.sk-estimator:hover label.sk-toggleable__label-arrow:before {color: black;}#sk-container-id-4 div.sk-toggleable__content {max-height: 0;max-width: 0;overflow: hidden;text-align: left;background-color: #f0f8ff;}#sk-container-id-4 div.sk-toggleable__content pre {margin: 0.2em;color: black;border-radius: 0.25em;background-color: #f0f8ff;}#sk-container-id-4 input.sk-toggleable__control:checked~div.sk-toggleable__content {max-height: 200px;max-width: 100%;overflow: auto;}#sk-container-id-4 input.sk-toggleable__control:checked~label.sk-toggleable__label-arrow:before {content: \"▾\";}#sk-container-id-4 div.sk-estimator input.sk-toggleable__control:checked~label.sk-toggleable__label {background-color: #d4ebff;}#sk-container-id-4 div.sk-label input.sk-toggleable__control:checked~label.sk-toggleable__label {background-color: #d4ebff;}#sk-container-id-4 input.sk-hidden--visually {border: 0;clip: rect(1px 1px 1px 1px);clip: rect(1px, 1px, 1px, 1px);height: 1px;margin: -1px;overflow: hidden;padding: 0;position: absolute;width: 1px;}#sk-container-id-4 div.sk-estimator {font-family: monospace;background-color: #f0f8ff;border: 1px dotted black;border-radius: 0.25em;box-sizing: border-box;margin-bottom: 0.5em;}#sk-container-id-4 div.sk-estimator:hover {background-color: #d4ebff;}#sk-container-id-4 div.sk-parallel-item::after {content: \"\";width: 100%;border-bottom: 1px solid gray;flex-grow: 1;}#sk-container-id-4 div.sk-label:hover label.sk-toggleable__label {background-color: #d4ebff;}#sk-container-id-4 div.sk-serial::before {content: \"\";position: absolute;border-left: 1px solid gray;box-sizing: border-box;top: 0;bottom: 0;left: 50%;z-index: 0;}#sk-container-id-4 div.sk-serial {display: flex;flex-direction: column;align-items: center;background-color: white;padding-right: 0.2em;padding-left: 0.2em;position: relative;}#sk-container-id-4 div.sk-item {position: relative;z-index: 1;}#sk-container-id-4 div.sk-parallel {display: flex;align-items: stretch;justify-content: center;background-color: white;position: relative;}#sk-container-id-4 div.sk-item::before, #sk-container-id-4 div.sk-parallel-item::before {content: \"\";position: absolute;border-left: 1px solid gray;box-sizing: border-box;top: 0;bottom: 0;left: 50%;z-index: -1;}#sk-container-id-4 div.sk-parallel-item {display: flex;flex-direction: column;z-index: 1;position: relative;background-color: white;}#sk-container-id-4 div.sk-parallel-item:first-child::after {align-self: flex-end;width: 50%;}#sk-container-id-4 div.sk-parallel-item:last-child::after {align-self: flex-start;width: 50%;}#sk-container-id-4 div.sk-parallel-item:only-child::after {width: 0;}#sk-container-id-4 div.sk-dashed-wrapped {border: 1px dashed gray;margin: 0 0.4em 0.5em 0.4em;box-sizing: border-box;padding-bottom: 0.4em;background-color: white;}#sk-container-id-4 div.sk-label label {font-family: monospace;font-weight: bold;display: inline-block;line-height: 1.2em;}#sk-container-id-4 div.sk-label-container {text-align: center;}#sk-container-id-4 div.sk-container {/* jupyter's `normalize.less` sets `[hidden] { display: none; }` but bootstrap.min.css set `[hidden] { display: none !important; }` so we also need the `!important` here to be able to override the default hidden behavior on the sphinx rendered scikit-learn.org. See: https://github.com/scikit-learn/scikit-learn/issues/21755 */display: inline-block !important;position: relative;}#sk-container-id-4 div.sk-text-repr-fallback {display: none;}</style><div id=\"sk-container-id-4\" class=\"sk-top-container\"><div class=\"sk-text-repr-fallback\"><pre> ARIMA(1,1,0)(0,0,0)[0]          </pre><b>In a Jupyter environment, please rerun this cell to show the HTML representation or trust the notebook. <br />On GitHub, the HTML representation is unable to render, please try loading this page with nbviewer.org.</b></div><div class=\"sk-container\" hidden><div class=\"sk-item\"><div class=\"sk-estimator sk-toggleable\"><input class=\"sk-toggleable__control sk-hidden--visually\" id=\"sk-estimator-id-4\" type=\"checkbox\" checked><label for=\"sk-estimator-id-4\" class=\"sk-toggleable__label sk-toggleable__label-arrow\">ARIMA</label><div class=\"sk-toggleable__content\"><pre> ARIMA(1,1,0)(0,0,0)[0]          </pre></div></div></div></div></div>"
            ]
          },
          "metadata": {},
          "execution_count": 87
        }
      ],
      "source": [
        "arima_model.fit(train)"
      ]
    },
    {
      "cell_type": "code",
      "execution_count": null,
      "metadata": {
        "id": "tlDgANISOI7c"
      },
      "outputs": [],
      "source": [
        "future_forecast_arima = arima_model.predict(n_periods=30)"
      ]
    },
    {
      "cell_type": "code",
      "execution_count": null,
      "metadata": {
        "colab": {
          "base_uri": "https://localhost:8080/"
        },
        "id": "XeednrA2OU3T",
        "outputId": "d8f5b048-c405-4226-9c32-597278b4b344"
      },
      "outputs": [
        {
          "output_type": "execute_result",
          "data": {
            "text/plain": [
              "DatetimeIndex(['2022-07-31', '2022-08-31', '2022-09-30', '2022-10-31',\n",
              "               '2022-11-30', '2022-12-31', '2023-01-31', '2023-02-28',\n",
              "               '2023-03-31', '2023-04-30', '2023-05-31', '2023-06-30',\n",
              "               '2023-07-31', '2023-08-31', '2023-09-30', '2023-10-31',\n",
              "               '2023-11-30', '2023-12-31', '2024-01-31', '2024-02-29',\n",
              "               '2024-03-31', '2024-04-30', '2024-05-31', '2024-06-30',\n",
              "               '2024-07-31', '2024-08-31', '2024-09-30', '2024-10-31',\n",
              "               '2024-11-30', '2024-12-31'],\n",
              "              dtype='datetime64[ns]', freq='M')"
            ]
          },
          "metadata": {},
          "execution_count": 90
        }
      ],
      "source": [
        "future_forecast_arima.index"
      ]
    },
    {
      "cell_type": "code",
      "source": [
        "future_forecast_arima_1 = future_forecast_arima[:'09-30-2023']\n",
        "future_forecast_arima_2 = future_forecast_arima['10-1-2023':]"
      ],
      "metadata": {
        "id": "CImTLdVCQUqG"
      },
      "execution_count": null,
      "outputs": []
    },
    {
      "cell_type": "code",
      "source": [
        "future_forecast_arima_2"
      ],
      "metadata": {
        "colab": {
          "base_uri": "https://localhost:8080/"
        },
        "id": "k704xZyOcBdY",
        "outputId": "069d9887-7d9a-41b7-c6f3-0dce1a4b64ae"
      },
      "execution_count": null,
      "outputs": [
        {
          "output_type": "execute_result",
          "data": {
            "text/plain": [
              "2023-10-31    88504.125633\n",
              "2023-11-30    88504.125745\n",
              "2023-12-31    88504.125708\n",
              "2024-01-31    88504.125720\n",
              "2024-02-29    88504.125716\n",
              "2024-03-31    88504.125718\n",
              "2024-04-30    88504.125717\n",
              "2024-05-31    88504.125717\n",
              "2024-06-30    88504.125717\n",
              "2024-07-31    88504.125717\n",
              "2024-08-31    88504.125717\n",
              "2024-09-30    88504.125717\n",
              "2024-10-31    88504.125717\n",
              "2024-11-30    88504.125717\n",
              "2024-12-31    88504.125717\n",
              "Freq: M, dtype: float64"
            ]
          },
          "metadata": {},
          "execution_count": 99
        }
      ]
    },
    {
      "cell_type": "code",
      "execution_count": null,
      "metadata": {
        "colab": {
          "base_uri": "https://localhost:8080/",
          "height": 449
        },
        "id": "8-tmXwPSPTQJ",
        "outputId": "1e09288b-5abd-42b1-d602-e70bb2f8d446"
      },
      "outputs": [
        {
          "output_type": "display_data",
          "data": {
            "text/plain": [
              "<Figure size 640x480 with 1 Axes>"
            ],
            "image/png": "[encoded data removed]"
          },
          "metadata": {}
        }
      ],
      "source": [
        "future_forecast_arima_2.plot(marker='', color='blue', legend=True, label='Previsto')\n",
        "X.plot(marker='', color='red', label='Real', legend=True)\n",
        "\n",
        "plt.show()"
      ]
    },
    {
      "cell_type": "code",
      "execution_count": null,
      "metadata": {
        "id": "5n3Qz1-XWM_o"
      },
      "outputs": [],
      "source": [
        "# Parâmetros para calcular os intervalos de confiança\n",
        "alpha_95 = 0.05  # Nível de significância para intervalo de confiança de 95%\n",
        "alpha_80 = 0.2\n",
        "z_critical_95 = stats.norm.ppf(1 - alpha_95 / 2)  # Valor crítico para distribuição normal padrão\n",
        "z_critical_80 = stats.norm.ppf(1 - alpha_80 / 2)\n",
        "\n",
        "# Calcular intervalo de confiança\n",
        "forecast_mean = future_forecast_arima_2  # Supondo que as previsões já foram calculadas\n",
        "forecast_std = np.std(X)  # Desvio padrão dos dados históricos\n",
        "\n",
        "lower_bound_95 = forecast_mean - z_critical_95 * forecast_std\n",
        "upper_bound_95 = forecast_mean + z_critical_95 * forecast_std\n",
        "\n",
        "lower_bound_80 = forecast_mean - z_critical_80 * forecast_std\n",
        "upper_bound_80 = forecast_mean + z_critical_80 * forecast_std"
      ]
    },
    {
      "cell_type": "code",
      "execution_count": null,
      "metadata": {
        "colab": {
          "base_uri": "https://localhost:8080/",
          "height": 504
        },
        "id": "xC5-uDZubXPM",
        "outputId": "573b6387-07c7-4ab7-b808-9570445c8128"
      },
      "outputs": [
        {
          "output_type": "execute_result",
          "data": {
            "text/plain": [
              "<matplotlib.legend.Legend at 0x7d1811bfca90>"
            ]
          },
          "metadata": {},
          "execution_count": 95
        },
        {
          "output_type": "display_data",
          "data": {
            "text/plain": [
              "<Figure size 1200x500 with 1 Axes>"
            ],
            "image/png": "[encoded data removed]"
          },
          "metadata": {}
        }
      ],
      "source": [
        "# Plotting\n",
        "plt.figure(figsize=(12, 5))\n",
        "X.plot(marker='', label='Previsão')\n",
        "future_forecast_arima_2.plot(marker='', label='Dados reais')\n",
        "\n",
        "\n",
        "# Plotting confidence intervals\n",
        "plt.fill_between(future_forecast_arima_2.index, lower_bound_95, upper_bound_95, color='gray', alpha=0.2, label='Intervalo de Confiança (95%)')\n",
        "plt.fill_between(future_forecast_arima_2.index, lower_bound_80, upper_bound_80, color='blue', alpha=0.2, label='Intervalo de Confiança (80%)')\n",
        "plt.title('Previsao ARIMA com Intervalo de Confianca')\n",
        "plt.xlabel('Ano')\n",
        "plt.ylabel('Numero de Atendimentos Individuais')\n",
        "plt.legend(loc='upper left')"
      ]
    },
    {
      "cell_type": "code",
      "execution_count": null,
      "metadata": {
        "colab": {
          "base_uri": "https://localhost:8080/"
        },
        "id": "Qtnb3yPCgzyq",
        "outputId": "22698c97-fd86-40eb-8f57-3555e0788d00"
      },
      "outputs": [
        {
          "output_type": "stream",
          "name": "stdout",
          "text": [
            "MAE: 9750.032860834679\n",
            "MSE: 145338324.97412166\n",
            "RMSE: 12055.634573680543\n",
            "MAPE: 0.10032762612918876\n",
            "TU: 0.7433241464685024\n"
          ]
        }
      ],
      "source": [
        "# Calcular o Erro Absoluto Médio (MAE)\n",
        "mae = mean_absolute_error(test,future_forecast_arima_1)\n",
        "print(f'MAE: {mae}')\n",
        "\n",
        "# Calcular o Erro Quadrático Médio (MSE)\n",
        "mse = mean_squared_error(test,future_forecast_arima_1)\n",
        "print(f'MSE: {mse}')\n",
        "\n",
        "# Calcular a Raiz do Erro Quadrático Médio (RMSE)\n",
        "rmse = np.sqrt(mse)\n",
        "print(f'RMSE: {rmse}')\n",
        "\n",
        "mape = mean_absolute_percentage_error(test,future_forecast_arima_1)\n",
        "print(f'MAPE: {mape}')\n",
        "\n",
        "TU = theil_u2(test, future_forecast_arima_1)\n",
        "print(f'TU: {TU}')"
      ]
    },
    {
      "cell_type": "code",
      "execution_count": null,
      "metadata": {
        "id": "i2Z2j9IDvLwZ"
      },
      "outputs": [],
      "source": [
        "model_fit = arima_model.fit(train)"
      ]
    },
    {
      "cell_type": "code",
      "execution_count": null,
      "metadata": {
        "colab": {
          "base_uri": "https://localhost:8080/"
        },
        "id": "cBeRNPMmvfwz",
        "outputId": "66e35c14-3a4e-4520-d5fc-fd38481e9e91"
      },
      "outputs": [
        {
          "output_type": "execute_result",
          "data": {
            "text/plain": [
              "1.8650588376473844"
            ]
          },
          "metadata": {},
          "execution_count": 98
        }
      ],
      "source": [
        "durbin_watson(model_fit.resid())"
      ]
    }
  ],
  "metadata": {
    "colab": {
      "provenance": []
    },
    "kernelspec": {
      "display_name": "Python 3",
      "name": "python3"
    },
    "language_info": {
      "name": "python"
    }
  },
  "nbformat": 4,
  "nbformat_minor": 0
}